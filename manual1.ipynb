{
 "cells": [
  {
   "cell_type": "code",
   "execution_count": 1,
   "id": "531aee71",
   "metadata": {
    "ExecuteTime": {
     "end_time": "2023-06-15T05:38:17.119087Z",
     "start_time": "2023-06-15T05:38:17.113095Z"
    }
   },
   "outputs": [
    {
     "data": {
      "text/plain": [
       "sys.version_info(major=3, minor=10, micro=11, releaselevel='final', serial=0)"
      ]
     },
     "execution_count": 1,
     "metadata": {},
     "output_type": "execute_result"
    }
   ],
   "source": [
    "import sys\n",
    "sys.version_info\n"
   ]
  },
  {
   "cell_type": "code",
   "execution_count": 1,
   "id": "f4a3dc32",
   "metadata": {
    "ExecuteTime": {
     "end_time": "2023-06-15T05:38:26.767023Z",
     "start_time": "2023-06-15T05:38:23.770476Z"
    }
   },
   "outputs": [],
   "source": [
    "from bkntis import bk_ntis as bn\n"
   ]
  },
  {
   "cell_type": "code",
   "execution_count": 2,
   "id": "e252598c",
   "metadata": {
    "ExecuteTime": {
     "end_time": "2023-06-14T05:55:52.242548Z",
     "start_time": "2023-06-14T05:55:52.236874Z"
    }
   },
   "outputs": [
    {
     "name": "stdout",
     "output_type": "stream",
     "text": [
      "b\n"
     ]
    }
   ],
   "source": [
    "print('b')"
   ]
  },
  {
   "cell_type": "code",
   "execution_count": 4,
   "id": "0d7f7200-28f2-4871-98fd-4cce8cd333b8",
   "metadata": {
    "ExecuteTime": {
     "end_time": "2023-06-15T05:38:55.639335Z",
     "start_time": "2023-06-15T05:38:38.900844Z"
    },
    "tags": []
   },
   "outputs": [
    {
     "name": "stdout",
     "output_type": "stream",
     "text": [
      ">> pre_treatment1_fund() : (컬럼생성) 정부연구비_억, 정부연구비_조, 연구비_등급 1/2/3/4, 보안과제\n",
      ">> pre_treatment2_name_org() : 사업 부처명 정리 (컬럼생성)  사업_부처명2/3/4/m\n",
      "-- 사업_부처명m : NTIS 에 입력되어 있는 사업_부처명은 2012년 기준으로 되어 있음. 이것을 2020년 기준으로 변경함{'미래창조과학부': '과학기술정보통신부', '범부처 사업': '다부처', '중소기업청': '중소벤처기업부', '지식경제부': '산업통상자원부', '교육과학기술부': '과학기술정보통신부', '국토해양부': '국토교통부'}\n",
      ">> pre_treatment3_region() : 지역명 정리, (컬럼생성) 지역2, 지역3\n",
      ">> pre_treatment4_security() : (컬럼생성) 보안과제2, 보안과제3\n",
      "(참고 1) 보안과제2 :  일반    986409\n",
      "보안      4156\n",
      "Name: 보안과제2, dtype: int64\n",
      "(참고 2) 보안과제3 :  일반    986409\n",
      "보안      4156\n",
      "Name: 보안과제3, dtype: int64\n",
      "*** NTIS 객체 생성 : 28.8 초\n"
     ]
    }
   ],
   "source": [
    "# test for bkNTIS package\n",
    "import time\n",
    "from bkntis import bk_ntis as bn\n",
    "\n",
    "t1 = time.time()\n",
    "\n",
    "#filename1 = '/Users/bk/Documents/ntis_python/ntis_1999_2021.pkl'\n",
    "# MacBookPro \n",
    "filename1 = '/Users/bk/Downloads/ntis_1999_2021.pkl'\n",
    "\n",
    "ntis1 = bn.NTIS(filename=filename1)\n"
   ]
  },
  {
   "cell_type": "code",
   "execution_count": 5,
   "id": "b7fc876e-d041-4b21-8f9c-e32ecf762097",
   "metadata": {
    "ExecuteTime": {
     "end_time": "2023-06-15T05:46:17.092627Z",
     "start_time": "2023-06-15T05:44:40.465773Z"
    }
   },
   "outputs": [
    {
     "name": "stdout",
     "output_type": "stream",
     "text": [
      ">>> make_pdf()\n",
      "1 : 지역\n",
      "* B-1-1 지역 널 데이터 현황(null data) \n",
      "initial v_0 == 0, so changed year_difference to 8\n",
      "* B-1-2 지역 연구비 추이\n",
      "initial v_0 == 0, so changed year_difference to 8\n",
      "* B-1-3 지역 과제당 연구비(억원)\n",
      "* B-1-4 지역 연구비 추이(Bar)\n",
      "* B-1-5 지역 연구비 비율 추이(Bar)\n",
      "* B-1_6 지역 연구비 추이\n",
      "* B-1_7 지역 연구비 추이\n",
      "* B-1-8 지역 연구비\n",
      "* B-1-9 지역 연구비(2018)\n",
      "* B-1-10 지역 연구비(2021)\n",
      "initial v_0 == 0, so changed year_difference to 8\n",
      "* B-1-11 지역 과제수 추이\n",
      "initial v_0 == 0, so changed year_difference to 8\n",
      "* B-1-12 지역 1억당 과제수(개)\n",
      "* B-1-13 지역 과제수 추이(Bar)\n",
      "* B-1-14 지역 과제수 비율 추이(Bar)\n",
      "* B-1_15 지역 과제수 추이\n",
      "* B-1_16 지역 과제수 추이\n",
      "* B-1-17 지역 과제수\n",
      "* B-1-18 지역 과제수(2018)\n",
      "* B-1-19 지역 과제수(2021)\n",
      " *** total_test2_2023_0615_1646_18.pdf was created ! *** \n",
      "165.6 seconds !\n"
     ]
    }
   ],
   "source": [
    "on1 = [\n",
    "      #'null',\n",
    "      # 'fund_trend1',\n",
    "      # 'fund_histogram',\n",
    "      # 'fund_boxplot',\n",
    "      # 'fund_trend2',\n",
    "       'col_groups'\n",
    "      ]\n",
    "\n",
    "col_groups1 = [\n",
    "              #'사업_부처명m',\n",
    "              # '연구수행주체',\n",
    "               '지역',\n",
    "               # '지역2', '지역3',\n",
    "               #'6T관련기술-대', '과학기술표준분류1-대', '중점과학기술분류-대',\n",
    "               #'연구개발단계',\n",
    "               #'연구책임자성별',\n",
    "               #'보안과제3',\n",
    "               #'연구비_등급1', '연구비_등급2', '연구비_등급4'\n",
    "               ]\n",
    "\n",
    "fig_list = ntis1.make_pdf(filename_prefix='test2',\n",
    "                          col_groups=col_groups1,\n",
    "                          onoff_condition=on1)\n",
    "\n",
    "t2 = time.time() - t1\n",
    "\n",
    "print(f\"{t2:.1f} seconds !\")\n"
   ]
  },
  {
   "cell_type": "code",
   "execution_count": null,
   "id": "b20df297",
   "metadata": {},
   "outputs": [],
   "source": []
  }
 ],
 "metadata": {
  "kernelspec": {
   "display_name": "Python 3 (ipykernel)",
   "language": "python",
   "name": "python3"
  },
  "language_info": {
   "codemirror_mode": {
    "name": "ipython",
    "version": 3
   },
   "file_extension": ".py",
   "mimetype": "text/x-python",
   "name": "python",
   "nbconvert_exporter": "python",
   "pygments_lexer": "ipython3",
   "version": "3.10.9"
  },
  "toc": {
   "base_numbering": 1,
   "nav_menu": {},
   "number_sections": true,
   "sideBar": true,
   "skip_h1_title": false,
   "title_cell": "Table of Contents",
   "title_sidebar": "Contents",
   "toc_cell": false,
   "toc_position": {},
   "toc_section_display": true,
   "toc_window_display": false
  }
 },
 "nbformat": 4,
 "nbformat_minor": 5
}
