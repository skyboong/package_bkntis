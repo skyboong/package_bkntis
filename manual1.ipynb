{
 "cells": [
  {
   "cell_type": "code",
   "execution_count": 1,
   "id": "531aee71",
   "metadata": {
    "ExecuteTime": {
     "end_time": "2023-06-19T04:25:06.281862Z",
     "start_time": "2023-06-19T04:25:06.278664Z"
    }
   },
   "outputs": [
    {
     "data": {
      "text/plain": [
       "sys.version_info(major=3, minor=10, micro=9, releaselevel='final', serial=0)"
      ]
     },
     "execution_count": 1,
     "metadata": {},
     "output_type": "execute_result"
    }
   ],
   "source": [
    "%load_ext autoreload\n",
    "%autoreload 2\n",
    "\n",
    "import sys\n",
    "sys.version_info\n"
   ]
  },
  {
   "cell_type": "code",
   "execution_count": 2,
   "id": "b4f4bb06",
   "metadata": {
    "ExecuteTime": {
     "end_time": "2023-06-19T04:28:22.967323Z",
     "start_time": "2023-06-19T04:28:05.526435Z"
    },
    "tags": []
   },
   "outputs": [
    {
     "name": "stdout",
     "output_type": "stream",
     "text": [
      "Test4 : 임포트 수정 : bk_ntis.py\n"
     ]
    }
   ],
   "source": [
    "# test for bkNTIS package\n",
    "\n",
    "import time\n",
    "from bkntis import bk_ntis as bn\n"
   ]
  },
  {
   "cell_type": "code",
   "execution_count": 4,
   "id": "0d7f7200-28f2-4871-98fd-4cce8cd333b8",
   "metadata": {
    "ExecuteTime": {
     "end_time": "2023-06-19T04:28:22.967323Z",
     "start_time": "2023-06-19T04:28:05.526435Z"
    },
    "tags": []
   },
   "outputs": [
    {
     "name": "stdout",
     "output_type": "stream",
     "text": [
      ">> pre_treatment1_fund() : (컬럼생성) 정부연구비_억, 정부연구비_조, 연구비_등급 1/2/3/4, 보안과제\n",
      ">> pre_treatment2_name_org() : 사업 부처명 정리 (컬럼생성)  사업_부처명2/3/4/m\n",
      "-- 사업_부처명m : NTIS 에 입력되어 있는 사업_부처명은 2012년 기준으로 되어 있음. 이것을 2020년 기준으로 변경함{'미래창조과학부': '과학기술정보통신부', '범부처 사업': '다부처', '중소기업청': '중소벤처기업부', '지식경제부': '산업통상자원부', '교육과학기술부': '과학기술정보통신부', '국토해양부': '국토교통부'}\n",
      ">> pre_treatment3_region() : 지역명 정리, (컬럼생성) 지역2, 지역3\n",
      ">> pre_treatment4_security() : (컬럼생성) 보안과제2, 보안과제3\n",
      "(참고 1) 보안과제2 :  일반    986409\n",
      "보안      4156\n",
      "Name: 보안과제2, dtype: int64\n",
      "(참고 2) 보안과제3 :  일반    986409\n",
      "보안      4156\n",
      "Name: 보안과제3, dtype: int64\n",
      "*** NTIS 객체 생성 : 27.6 초\n"
     ]
    }
   ],
   "source": [
    "t1 = time.time()\n",
    "\n",
    "# iMac\n",
    "#filename1 = '/Users/bk/Documents/ntis_python/ntis_1999_2021.pkl'\n",
    "\n",
    "# MacBookPro\n",
    "#filename1 = '/Users/bk/Downloads/ntis_1999_2021.pkl'\n",
    "\n",
    "# MackBookPro kisti\n",
    "filename1 = '/Users/bk/Downloads/ntis_1999_2021.pkl'\n",
    "\n",
    "ntis1 = bn.NTIS(filename=filename1)"
   ]
  },
  {
   "cell_type": "code",
   "execution_count": 5,
   "id": "b7fc876e-d041-4b21-8f9c-e32ecf762097",
   "metadata": {
    "ExecuteTime": {
     "end_time": "2023-06-19T04:32:14.452190Z",
     "start_time": "2023-06-19T04:31:30.270331Z"
    }
   },
   "outputs": [
    {
     "name": "stdout",
     "output_type": "stream",
     "text": [
      ">>> make_pdf()\n",
      "(1) draw null\n",
      "* A1-1 데이터 비율(전체)\n",
      "* A1-2 널 존재하는 컬럼 추출 - 데이터 비율(전체)\n",
      "* A1-3 데이터 비율(연도별 : 1999~2021)\n",
      "(2) fund_trend1()\n",
      ">>>\n",
      "* A2-1 정부 연구개발 집행액과 과제수\n",
      "* A2-2 정부 연구개발 집행액의 평균 및 중앙값\n",
      "(3) fund_histogram()\n",
      "* A3 정부연구비_억 Histogram 1 (전체)\n",
      "* A3 정부연구비_억 Histogram 2 (10 억원 이하)\n",
      "* A3 정부연구비_억 Histogram 3 (20 억원 이하)\n",
      "* A3 정부연구비_억 Histogram 4 (100 억원 이하)\n",
      "(4) fund_boxplot()\n",
      "* A4-정부연구비_억 Box Plot 제출년도 vs 정부연구비_억\n",
      " *** total_Rain__tab20c_2023_0621_1122_24.pdf was created ! *** \n",
      "431.7 seconds !\n"
     ]
    }
   ],
   "source": [
    "on1 = [\n",
    "      'null',\n",
    "       'fund_trend1',\n",
    "       'fund_histogram',\n",
    "       'fund_boxplot',\n",
    "      # 'fund_trend2',\n",
    "       'col_groups'\n",
    "      ]\n",
    "\n",
    "col_groups1 = [\n",
    "              #'사업_부처명m',\n",
    "              # '연구수행주체',\n",
    "              # '지역',\n",
    "               # '지역2', '지역3',\n",
    "               #'6T관련기술-대', '과학기술표준분류1-대', '중점과학기술분류-대',\n",
    "               #'연구개발단계',\n",
    "               '연구책임자성별',\n",
    "               #'보안과제3',\n",
    "               #'연구비_등급1', '연구비_등급2', '연구비_등급4'\n",
    "               ]\n",
    "\n",
    "fig_list = ntis1.make_pdf(filename_prefix='Rain_',\n",
    "                          col_groups=col_groups1,\n",
    "                          onoff_condition=on1)\n",
    "\n",
    "t2 = time.time() - t1\n",
    "\n",
    "print(f\"{t2:.1f} seconds !\")\n"
   ]
  },
  {
   "cell_type": "code",
   "execution_count": null,
   "id": "b20df297",
   "metadata": {},
   "outputs": [],
   "source": [
    "# 논문 성과\n",
    "\n",
    "df_p1 = pd.read_pickle('')"
   ]
  }
 ],
 "metadata": {
  "kernelspec": {
   "display_name": "Python 3 (ipykernel)",
   "language": "python",
   "name": "python3"
  },
  "language_info": {
   "codemirror_mode": {
    "name": "ipython",
    "version": 3
   },
   "file_extension": ".py",
   "mimetype": "text/x-python",
   "name": "python",
   "nbconvert_exporter": "python",
   "pygments_lexer": "ipython3",
   "version": "3.10.9"
  },
  "toc": {
   "base_numbering": 1,
   "nav_menu": {},
   "number_sections": true,
   "sideBar": true,
   "skip_h1_title": false,
   "title_cell": "Table of Contents",
   "title_sidebar": "Contents",
   "toc_cell": false,
   "toc_position": {},
   "toc_section_display": true,
   "toc_window_display": false
  }
 },
 "nbformat": 4,
 "nbformat_minor": 5
}
